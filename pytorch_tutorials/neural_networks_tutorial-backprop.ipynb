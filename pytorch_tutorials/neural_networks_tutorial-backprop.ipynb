{
 "cells": [
  {
   "cell_type": "code",
   "execution_count": 1,
   "metadata": {
    "collapsed": true
   },
   "outputs": [],
   "source": [
    "%matplotlib inline"
   ]
  },
  {
   "cell_type": "code",
   "execution_count": 2,
   "metadata": {
    "collapsed": true
   },
   "outputs": [],
   "source": [
    "import torch\n",
    "from torch.autograd import Variable\n",
    "import torch.nn as nn\n",
    "import torch.nn.functional as F\n"
   ]
  },
  {
   "cell_type": "markdown",
   "metadata": {},
   "source": [
    "Define the network\n",
    "------------------\n",
    "\n",
    "Let’s define this network: 2 dim input - 1 hidden neuron - 2 output neuron.\n",
    "We will not use bias.\n",
    "\n"
   ]
  },
  {
   "cell_type": "code",
   "execution_count": 3,
   "metadata": {
    "collapsed": true
   },
   "outputs": [],
   "source": [
    "input_dim=2"
   ]
  },
  {
   "cell_type": "code",
   "execution_count": 4,
   "metadata": {},
   "outputs": [
    {
     "name": "stdout",
     "output_type": "stream",
     "text": [
      "Sequential (\n",
      "  (0): Linear (2 -> 1)\n",
      "  (1): Linear (1 -> 2)\n",
      ")\n"
     ]
    }
   ],
   "source": [
    "net = nn.Sequential(nn.Linear(input_dim, 1,bias=False),nn.Linear(1,2,bias=False))\n",
    "print(net)"
   ]
  },
  {
   "cell_type": "markdown",
   "metadata": {},
   "source": [
    "This network has 2 neurons on the first layer, 2 neurons on the second layer, therefore we will need to train 4 parameters. Let us set up the initial values e.g. to [3,3] and [4,5].\n"
   ]
  },
  {
   "cell_type": "code",
   "execution_count": 5,
   "metadata": {
    "collapsed": true
   },
   "outputs": [],
   "source": [
    "net[0].weight=nn.Parameter(torch.Tensor([3,3]).view(1,2))\n",
    "net[1].weight=nn.Parameter(torch.Tensor([4,5]).view(2,1))"
   ]
  },
  {
   "cell_type": "markdown",
   "metadata": {},
   "source": [
    "Let us print out the weights of the network"
   ]
  },
  {
   "cell_type": "code",
   "execution_count": 6,
   "metadata": {},
   "outputs": [
    {
     "name": "stdout",
     "output_type": "stream",
     "text": [
      "\n",
      " 3  3\n",
      "[torch.FloatTensor of size 1x2]\n",
      "\n",
      "\n",
      " 4\n",
      " 5\n",
      "[torch.FloatTensor of size 2x1]\n",
      "\n"
     ]
    }
   ],
   "source": [
    "for f in net.parameters():\n",
    "    print(f.data)"
   ]
  },
  {
   "cell_type": "markdown",
   "metadata": {},
   "source": [
    "Let the input of the network be e.g. [1,2]"
   ]
  },
  {
   "cell_type": "code",
   "execution_count": 7,
   "metadata": {},
   "outputs": [
    {
     "name": "stdout",
     "output_type": "stream",
     "text": [
      "Variable containing:\n",
      " 1\n",
      " 2\n",
      "[torch.FloatTensor of size 2]\n",
      "\n"
     ]
    }
   ],
   "source": [
    "#input = Variable(torch.randn(1,input_dim))\n",
    "input = Variable(torch.FloatTensor([1,2]))\n",
    "print(input)\n"
   ]
  },
  {
   "cell_type": "markdown",
   "metadata": {},
   "source": [
    "Let us calculate the output of the neural network with these inputs:"
   ]
  },
  {
   "cell_type": "code",
   "execution_count": 8,
   "metadata": {},
   "outputs": [
    {
     "name": "stdout",
     "output_type": "stream",
     "text": [
      "Variable containing:\n",
      " 36\n",
      " 45\n",
      "[torch.FloatTensor of size 2]\n",
      "\n"
     ]
    }
   ],
   "source": [
    "output = net(input)\n",
    "print(output)"
   ]
  },
  {
   "cell_type": "markdown",
   "metadata": {},
   "source": [
    "Assume that the true output is e.g. [35,35] and we want to do a backprop step to update the weights"
   ]
  },
  {
   "cell_type": "code",
   "execution_count": 9,
   "metadata": {
    "collapsed": true
   },
   "outputs": [],
   "source": [
    "target = Variable(torch.FloatTensor([35,35]))"
   ]
  },
  {
   "cell_type": "markdown",
   "metadata": {},
   "source": [
    "Let us use the MSE loss"
   ]
  },
  {
   "cell_type": "code",
   "execution_count": 10,
   "metadata": {
    "collapsed": true
   },
   "outputs": [],
   "source": [
    "criterion = nn.MSELoss()\n"
   ]
  },
  {
   "cell_type": "markdown",
   "metadata": {},
   "source": [
    "Print out the loss. It should be ((36-35)^2+(45-35)^2)/2 = 50.5"
   ]
  },
  {
   "cell_type": "code",
   "execution_count": 11,
   "metadata": {},
   "outputs": [
    {
     "name": "stdout",
     "output_type": "stream",
     "text": [
      "Variable containing:\n",
      " 50.5000\n",
      "[torch.FloatTensor of size 1]\n",
      "\n"
     ]
    }
   ],
   "source": [
    "loss = criterion(output, target)\n",
    "print(loss)"
   ]
  },
  {
   "cell_type": "markdown",
   "metadata": {},
   "source": [
    "Calculate the derivative of the 4 parameters with backprop. We will keep the computation  graph so we can play with it later if we need. \n",
    "The 4 gradients are [54,108] and [9,90]"
   ]
  },
  {
   "cell_type": "code",
   "execution_count": 12,
   "metadata": {},
   "outputs": [
    {
     "name": "stdout",
     "output_type": "stream",
     "text": [
      "\n",
      "  54  108\n",
      "[torch.FloatTensor of size 1x2]\n",
      "\n",
      "\n",
      "  9\n",
      " 90\n",
      "[torch.FloatTensor of size 2x1]\n",
      "\n"
     ]
    }
   ],
   "source": [
    "net.zero_grad()     # zeroes the gradient buffers of all parameters\n",
    "loss.backward(torch.Tensor([1]),retain_graph=True )\n",
    "for f in net.parameters():\n",
    "    print(f.grad.data)\n"
   ]
  },
  {
   "cell_type": "code",
   "execution_count": 13,
   "metadata": {
    "collapsed": true
   },
   "outputs": [],
   "source": [
    "learning_rate = 0.0001\n",
    "for f in net.parameters():\n",
    "    f.data.sub_(f.grad.data * learning_rate)"
   ]
  },
  {
   "cell_type": "code",
   "execution_count": 14,
   "metadata": {},
   "outputs": [
    {
     "name": "stdout",
     "output_type": "stream",
     "text": [
      "\n",
      " 2.9946  2.9892\n",
      "[torch.FloatTensor of size 1x2]\n",
      "\n",
      "\n",
      " 3.9991\n",
      " 4.9910\n",
      "[torch.FloatTensor of size 2x1]\n",
      "\n"
     ]
    }
   ],
   "source": [
    "for f in net.parameters():\n",
    "    print(f.data)"
   ]
  },
  {
   "cell_type": "code",
   "execution_count": 15,
   "metadata": {},
   "outputs": [
    {
     "name": "stdout",
     "output_type": "stream",
     "text": [
      "Variable containing:\n",
      " 35.8839\n",
      " 44.7842\n",
      "[torch.FloatTensor of size 2]\n",
      "\n"
     ]
    }
   ],
   "source": [
    "output = net(input)\n",
    "print(output)"
   ]
  },
  {
   "cell_type": "code",
   "execution_count": 16,
   "metadata": {},
   "outputs": [
    {
     "name": "stdout",
     "output_type": "stream",
     "text": [
      "Variable containing:\n",
      " 48.2564\n",
      "[torch.FloatTensor of size 1]\n",
      "\n"
     ]
    }
   ],
   "source": [
    "loss = criterion(output, target)\n",
    "print(loss)"
   ]
  },
  {
   "cell_type": "markdown",
   "metadata": {},
   "source": [
    "We can also use the optim module to do the updates:"
   ]
  },
  {
   "cell_type": "code",
   "execution_count": 17,
   "metadata": {},
   "outputs": [
    {
     "name": "stdout",
     "output_type": "stream",
     "text": [
      "('loss:', Variable containing:\n",
      " 46.1385\n",
      "[torch.FloatTensor of size 1]\n",
      ")\n",
      "('loss:', Variable containing:\n",
      " 44.1385\n",
      "[torch.FloatTensor of size 1]\n",
      ")\n",
      "('loss:', Variable containing:\n",
      " 42.2488\n",
      "[torch.FloatTensor of size 1]\n",
      ")\n",
      "('loss:', Variable containing:\n",
      " 40.4627\n",
      "[torch.FloatTensor of size 1]\n",
      ")\n",
      "('loss:', Variable containing:\n",
      " 38.7737\n",
      "[torch.FloatTensor of size 1]\n",
      ")\n",
      "('loss:', Variable containing:\n",
      " 37.1759\n",
      "[torch.FloatTensor of size 1]\n",
      ")\n",
      "('loss:', Variable containing:\n",
      " 35.6636\n",
      "[torch.FloatTensor of size 1]\n",
      ")\n",
      "('loss:', Variable containing:\n",
      " 34.2318\n",
      "[torch.FloatTensor of size 1]\n",
      ")\n",
      "('loss:', Variable containing:\n",
      " 32.8754\n",
      "[torch.FloatTensor of size 1]\n",
      ")\n",
      "('loss:', Variable containing:\n",
      " 31.5900\n",
      "[torch.FloatTensor of size 1]\n",
      ")\n"
     ]
    }
   ],
   "source": [
    "import torch.optim as optim\n",
    "\n",
    "# create your optimizer\n",
    "optimizer = optim.SGD(net.parameters(), lr=0.0001)\n",
    "\n",
    "# in your training loop:\n",
    "for x in range(0, 10):\n",
    "    optimizer.zero_grad()   # zero the gradient buffers\n",
    "    output = net(input)\n",
    "    loss = criterion(output, target)\n",
    "    loss.backward() # calculate the new gradients\n",
    "    optimizer.step()    # Does the update\n",
    "\n",
    "    output = net(input) #  new output after weight updates\n",
    "    #print('output:', output)\n",
    "    loss = criterion(output, target) # new loss\n",
    "    print('loss:',loss) # if the learning rate is not too high then this should be decreasing"
   ]
  },
  {
   "cell_type": "code",
   "execution_count": null,
   "metadata": {
    "collapsed": true
   },
   "outputs": [],
   "source": []
  }
 ],
 "metadata": {
  "kernelspec": {
   "display_name": "Python 2",
   "language": "python",
   "name": "python2"
  },
  "language_info": {
   "codemirror_mode": {
    "name": "ipython",
    "version": 2
   },
   "file_extension": ".py",
   "mimetype": "text/x-python",
   "name": "python",
   "nbconvert_exporter": "python",
   "pygments_lexer": "ipython2",
   "version": "2.7.13"
  }
 },
 "nbformat": 4,
 "nbformat_minor": 1
}
