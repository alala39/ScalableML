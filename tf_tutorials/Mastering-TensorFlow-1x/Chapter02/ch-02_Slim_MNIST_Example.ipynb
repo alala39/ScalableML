{
 "cells": [
  {
   "cell_type": "markdown",
   "metadata": {},
   "source": [
    "# TF Slim MNIST Example"
   ]
  },
  {
   "cell_type": "markdown",
   "metadata": {},
   "source": [
    "TF Slim provides several modules that can be picked and applied independently and mixed with other TensorFlow packages. \n",
    "\n",
    "\n",
    "arg_scope: Provides a mechanism to apply elements to all graph nodes defined under a scope. \n",
    " \n",
    "layers: Provides several different kinds of layers such as fully_connected, conv2d, and many more. \n",
    "\n",
    "losses: Provides loss functions for training the optimizer \n",
    "\n",
    "learning: Provides functions for training the models \n",
    "\n",
    "evaluation: Provides evaluation functions \n",
    "\n",
    "metrics: Provides metrics functions to be used for evaluating the models \n",
    "\n",
    "regularizers: Provides functions for creating regularization methods \n",
    "\n",
    "variables: Provides functions for variable creation \n",
    "\n",
    "nets: Provides various pre-built and pre-trained models such as VGG16, InceptionV3, ResNet\n",
    "\n"
   ]
  },
  {
   "cell_type": "markdown",
   "metadata": {},
   "source": [
    "The simple workflow in TF Slim is as follows: \n",
    "\n",
    "Create the model using slim layers.    \n",
    "Provide the input to the layers to instantiate the model.    \n",
    "Use the logits and labels to define the loss.     \n",
    "Get the total loss using convenience function get_total_loss().     \n",
    "Create an optimizer.      \n",
    "Create a training function using convenience function slim.learning.create_train_op(), total_loss and optimizer.    \n",
    "Run the training using the convenience function slim.learning.train() and training function defined in the previous step.   \n",
    "\n"
   ]
  },
  {
   "cell_type": "code",
   "execution_count": 1,
   "metadata": {},
   "outputs": [],
   "source": [
    "from tensorflow.examples.tutorials.mnist import input_data\n",
    "from tensorflow.contrib import slim\n",
    "import tensorflow as tf\n",
    "import os\n"
   ]
  },
  {
   "cell_type": "code",
   "execution_count": 2,
   "metadata": {},
   "outputs": [],
   "source": [
    "tf.reset_default_graph()"
   ]
  },
  {
   "cell_type": "code",
   "execution_count": 3,
   "metadata": {},
   "outputs": [
    {
     "name": "stdout",
     "output_type": "stream",
     "text": [
      "WARNING:tensorflow:From <ipython-input-3-a59152f42ff4>:5: read_data_sets (from tensorflow.contrib.learn.python.learn.datasets.mnist) is deprecated and will be removed in a future version.\n",
      "Instructions for updating:\n",
      "Please use alternatives such as official/mnist/dataset.py from tensorflow/models.\n",
      "WARNING:tensorflow:From /home/ubuntu/anaconda3/envs/tensorflow_p36/lib/python3.6/site-packages/tensorflow/contrib/learn/python/learn/datasets/mnist.py:260: maybe_download (from tensorflow.contrib.learn.python.learn.datasets.base) is deprecated and will be removed in a future version.\n",
      "Instructions for updating:\n",
      "Please write your own downloading logic.\n",
      "WARNING:tensorflow:From /home/ubuntu/anaconda3/envs/tensorflow_p36/lib/python3.6/site-packages/tensorflow/contrib/learn/python/learn/datasets/mnist.py:262: extract_images (from tensorflow.contrib.learn.python.learn.datasets.mnist) is deprecated and will be removed in a future version.\n",
      "Instructions for updating:\n",
      "Please use tf.data to implement this functionality.\n",
      "Extracting ./mnist/train-images-idx3-ubyte.gz\n",
      "WARNING:tensorflow:From /home/ubuntu/anaconda3/envs/tensorflow_p36/lib/python3.6/site-packages/tensorflow/contrib/learn/python/learn/datasets/mnist.py:267: extract_labels (from tensorflow.contrib.learn.python.learn.datasets.mnist) is deprecated and will be removed in a future version.\n",
      "Instructions for updating:\n",
      "Please use tf.data to implement this functionality.\n",
      "Extracting ./mnist/train-labels-idx1-ubyte.gz\n",
      "WARNING:tensorflow:From /home/ubuntu/anaconda3/envs/tensorflow_p36/lib/python3.6/site-packages/tensorflow/contrib/learn/python/learn/datasets/mnist.py:110: dense_to_one_hot (from tensorflow.contrib.learn.python.learn.datasets.mnist) is deprecated and will be removed in a future version.\n",
      "Instructions for updating:\n",
      "Please use tf.one_hot on tensors.\n",
      "Extracting ./mnist/t10k-images-idx3-ubyte.gz\n",
      "Extracting ./mnist/t10k-labels-idx1-ubyte.gz\n",
      "WARNING:tensorflow:From /home/ubuntu/anaconda3/envs/tensorflow_p36/lib/python3.6/site-packages/tensorflow/contrib/learn/python/learn/datasets/mnist.py:290: DataSet.__init__ (from tensorflow.contrib.learn.python.learn.datasets.mnist) is deprecated and will be removed in a future version.\n",
      "Instructions for updating:\n",
      "Please use alternatives such as official/mnist/dataset.py from tensorflow/models.\n"
     ]
    }
   ],
   "source": [
    "n_classes = 10  \n",
    "n_steps = 1000\n",
    "\n",
    "# let us get the data\n",
    "mnist = input_data.read_data_sets(os.path.join('.', 'mnist'), one_hot=True)"
   ]
  },
  {
   "cell_type": "code",
   "execution_count": 4,
   "metadata": {},
   "outputs": [],
   "source": [
    "X_train = mnist.train.images\n",
    "X_train = tf.convert_to_tensor(X_train)\n",
    "Y_train = mnist.train.labels\n",
    "Y_train = tf.convert_to_tensor(Y_train)"
   ]
  },
  {
   "cell_type": "code",
   "execution_count": 5,
   "metadata": {},
   "outputs": [],
   "source": [
    "def mlp(x):\n",
    "    net = slim.fully_connected(x, 32, scope='fc1')\n",
    "    net = slim.dropout(net, 0.5, scope='dropout1')\n",
    "    net = slim.fully_connected(net, 32, scope='fc2')\n",
    "    net = slim.dropout(net, 0.5, scope='dropout2')\n",
    "    net = slim.fully_connected(net, n_classes, activation_fn=None, scope='fc3')\n",
    "    return net\n"
   ]
  },
  {
   "cell_type": "code",
   "execution_count": 6,
   "metadata": {},
   "outputs": [],
   "source": [
    "# Define the model\n",
    "logits = mlp(X_train)\n"
   ]
  },
  {
   "cell_type": "code",
   "execution_count": 7,
   "metadata": {},
   "outputs": [],
   "source": [
    "# Define the loss functions and get the total loss\n",
    "loss = tf.losses.softmax_cross_entropy(logits=logits, onehot_labels=Y_train)\n",
    "total_loss = tf.losses.get_total_loss()\n",
    "\n",
    "optimizer = tf.train.GradientDescentOptimizer(learning_rate=0.01)\n",
    "\n",
    "train_op = slim.learning.create_train_op(total_loss, optimizer)\n"
   ]
  },
  {
   "cell_type": "code",
   "execution_count": 8,
   "metadata": {},
   "outputs": [
    {
     "name": "stdout",
     "output_type": "stream",
     "text": [
      "WARNING:tensorflow:From /home/ubuntu/anaconda3/envs/tensorflow_p36/lib/python3.6/site-packages/tensorflow/contrib/slim/python/slim/learning.py:737: Supervisor.__init__ (from tensorflow.python.training.supervisor) is deprecated and will be removed in a future version.\n",
      "Instructions for updating:\n",
      "Please switch to tf.train.MonitoredTrainingSession\n",
      "INFO:tensorflow:Restoring parameters from ./slim_logs/model.ckpt-1003\n",
      "INFO:tensorflow:Running local_init_op.\n",
      "INFO:tensorflow:Done running local_init_op.\n",
      "INFO:tensorflow:Starting Session.\n",
      "INFO:tensorflow:Saving checkpoint to path ./slim_logs/model.ckpt\n",
      "INFO:tensorflow:Starting Queues.\n",
      "INFO:tensorflow:global_step/sec: 0\n",
      "INFO:tensorflow:Stopping Training.\n",
      "INFO:tensorflow:Finished training! Saving model to disk.\n",
      "final loss=1.5657175779342651\n"
     ]
    }
   ],
   "source": [
    "# Run the training\n",
    "final_loss = slim.learning.train(\n",
    "    train_op,\n",
    "    logdir='./slim_logs',\n",
    "    number_of_steps=n_steps,\n",
    "    log_every_n_steps=100)\n",
    "\n",
    "print('final loss={}'.format(final_loss))"
   ]
  },
  {
   "cell_type": "code",
   "execution_count": null,
   "metadata": {},
   "outputs": [],
   "source": []
  }
 ],
 "metadata": {
  "kernelspec": {
   "display_name": "Environment (conda_tensorflow_p36)",
   "language": "python",
   "name": "conda_tensorflow_p36"
  },
  "language_info": {
   "codemirror_mode": {
    "name": "ipython",
    "version": 3
   },
   "file_extension": ".py",
   "mimetype": "text/x-python",
   "name": "python",
   "nbconvert_exporter": "python",
   "pygments_lexer": "ipython3",
   "version": "3.6.5"
  }
 },
 "nbformat": 4,
 "nbformat_minor": 2
}
